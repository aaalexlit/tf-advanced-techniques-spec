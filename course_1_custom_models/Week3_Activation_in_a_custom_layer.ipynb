{
  "nbformat": 4,
  "nbformat_minor": 0,
  "metadata": {
    "colab": {
      "provenance": [],
      "authorship_tag": "ABX9TyNH7Ex5k+7PxKMrNvxXD9Cj",
      "include_colab_link": true
    },
    "kernelspec": {
      "name": "python3",
      "display_name": "Python 3"
    },
    "language_info": {
      "name": "python"
    }
  },
  "cells": [
    {
      "cell_type": "markdown",
      "metadata": {
        "id": "view-in-github",
        "colab_type": "text"
      },
      "source": [
        "<a href=\"https://colab.research.google.com/github/aaalexlit/tf-advanced-techniques-spec/blob/main/course_1_custom_models/Week3_Activation_in_a_custom_layer.ipynb\" target=\"_parent\"><img src=\"https://colab.research.google.com/assets/colab-badge.svg\" alt=\"Open In Colab\"/></a>"
      ]
    },
    {
      "cell_type": "markdown",
      "source": [
        "## Imports"
      ],
      "metadata": {
        "id": "ICErNmQ85u9r"
      }
    },
    {
      "cell_type": "code",
      "source": [
        "\n",
        "import tensorflow as tf\n",
        "from tensorflow.keras.layers import Layer\n",
        "from tensorflow.keras import Sequential\n",
        "from tensorflow.keras.layers import Flatten, Dropout, Dense"
      ],
      "metadata": {
        "id": "EyXheShyJhnz"
      },
      "execution_count": 1,
      "outputs": []
    },
    {
      "cell_type": "markdown",
      "source": [
        "## Using built-in  Keras activation\n",
        "\n",
        "Specify `activation` parameter int the `__init()__` method  \n",
        "Initialize it using `tf.keras.activations.get()`\n"
      ],
      "metadata": {
        "id": "EH0-ZbjkJuBU"
      }
    },
    {
      "cell_type": "code",
      "source": [
        "class SimpleDense(Layer):\n",
        "  \n",
        "  # add activation parameter.\n",
        "  # must be a string identifier of activations available in Keras\n",
        "  def __init__(self, units=32, activation=None):\n",
        "    super(SimpleDense, self).__init__()\n",
        "    self.units = units\n",
        "    self.activation = tf.keras.activations.get(activation)\n",
        "\n",
        "\t# runs when an instance of Layer is created\n",
        "  # ie defines the initial State\n",
        "  def build(self, input_shape):\n",
        "    w_init = tf.random_normal_initializer()\n",
        "    self.w = tf.Variable(name=\"kernel\",\n",
        "\t\t\t\t\t\t\tinitial_value=w_init(shape=(input_shape[-1], self.units), dtype='float32'),\n",
        "\t\t\t\t\t\t\ttrainable=True)\n",
        "    b_init = tf.zeros_initializer()\n",
        "    self.b = tf.Variable(name=\"bias\",\n",
        "\t\t\t\t\t\t\tinitial_value=b_init(shape=(self.units,), dtype='float32'),\n",
        "\t\t\t\t\t\t\ttrainable=True)\n",
        "\t\n",
        "\t# Defines the Computation from inputs to outputs\n",
        "  # called during training\n",
        "  def call(self, inputs):\n",
        "    return self.activation(tf.matmul(inputs, self.w) + self.b)"
      ],
      "metadata": {
        "id": "f-4ZIWw0Jz_1"
      },
      "execution_count": 2,
      "outputs": []
    },
    {
      "cell_type": "markdown",
      "source": [
        "## Use the layer"
      ],
      "metadata": {
        "id": "i43nfOa1KwJ_"
      }
    },
    {
      "cell_type": "code",
      "source": [
        "mnist = tf.keras.datasets.mnist\n",
        "(x_train, y_train), (x_test, y_test) = mnist.load_data()\n",
        "x_train, x_test = x_train/255., x_test/255.\n",
        "\n",
        "model = Sequential([\n",
        "    Flatten(input_shape=(28, 28)),\n",
        "    SimpleDense(128, activation='relu'),\n",
        "    # tf.keras.layers.Activation('relu'),\n",
        "    Dropout(0.2),\n",
        "    SimpleDense(10, activation='softmax')\n",
        "])"
      ],
      "metadata": {
        "id": "pBiPO0tyLKp-"
      },
      "execution_count": 7,
      "outputs": []
    },
    {
      "cell_type": "code",
      "source": [
        "model.compile(optimizer='adam', \n",
        "              loss=tf.keras.losses.sparse_categorical_crossentropy,\n",
        "              metrics=['accuracy'])\n",
        "\n",
        "model.fit(x_train, y_train, epochs=5,\n",
        "          validation_data=(x_test, y_test))\n",
        "model.evaluate(x_test, y_test)"
      ],
      "metadata": {
        "colab": {
          "base_uri": "https://localhost:8080/"
        },
        "id": "qwDADXcFMN2r",
        "outputId": "e112209b-6284-411e-c1bc-5782af97096d"
      },
      "execution_count": 8,
      "outputs": [
        {
          "output_type": "stream",
          "name": "stdout",
          "text": [
            "Epoch 1/5\n",
            "1875/1875 [==============================] - 6s 3ms/step - loss: 0.3181 - accuracy: 0.9092 - val_loss: 0.1536 - val_accuracy: 0.9550\n",
            "Epoch 2/5\n",
            "1875/1875 [==============================] - 6s 3ms/step - loss: 0.1492 - accuracy: 0.9554 - val_loss: 0.1051 - val_accuracy: 0.9668\n",
            "Epoch 3/5\n",
            "1875/1875 [==============================] - 6s 3ms/step - loss: 0.1116 - accuracy: 0.9661 - val_loss: 0.0826 - val_accuracy: 0.9752\n",
            "Epoch 4/5\n",
            "1875/1875 [==============================] - 6s 3ms/step - loss: 0.0905 - accuracy: 0.9723 - val_loss: 0.0806 - val_accuracy: 0.9748\n",
            "Epoch 5/5\n",
            "1875/1875 [==============================] - 6s 3ms/step - loss: 0.0779 - accuracy: 0.9755 - val_loss: 0.0743 - val_accuracy: 0.9766\n",
            "313/313 [==============================] - 1s 2ms/step - loss: 0.0743 - accuracy: 0.9766\n"
          ]
        },
        {
          "output_type": "execute_result",
          "data": {
            "text/plain": [
              "[0.07431235164403915, 0.9765999913215637]"
            ]
          },
          "metadata": {},
          "execution_count": 8
        }
      ]
    },
    {
      "cell_type": "code",
      "source": [],
      "metadata": {
        "id": "5gQPg6kcMhII"
      },
      "execution_count": 4,
      "outputs": []
    }
  ]
}