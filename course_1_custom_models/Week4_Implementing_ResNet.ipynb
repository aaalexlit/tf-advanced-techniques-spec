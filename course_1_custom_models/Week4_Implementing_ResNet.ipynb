{
  "nbformat": 4,
  "nbformat_minor": 0,
  "metadata": {
    "colab": {
      "provenance": [],
      "authorship_tag": "ABX9TyO9bIjWcbzasq0prUWYM2nd",
      "include_colab_link": true
    },
    "kernelspec": {
      "name": "python3",
      "display_name": "Python 3"
    },
    "language_info": {
      "name": "python"
    }
  },
  "cells": [
    {
      "cell_type": "markdown",
      "metadata": {
        "id": "view-in-github",
        "colab_type": "text"
      },
      "source": [
        "<a href=\"https://colab.research.google.com/github/aaalexlit/tf-advanced-techniques-spec/blob/main/course_1_custom_models/Week4_Implementing_ResNet.ipynb\" target=\"_parent\"><img src=\"https://colab.research.google.com/assets/colab-badge.svg\" alt=\"Open In Colab\"/></a>"
      ]
    },
    {
      "cell_type": "markdown",
      "source": [
        "## Imports"
      ],
      "metadata": {
        "id": "TlD58YJz4gbc"
      }
    },
    {
      "cell_type": "code",
      "source": [
        "import tensorflow as tf\n",
        "import tensorflow_datasets as tfds\n",
        "from tensorflow.keras.layers import Conv2D, BatchNormalization, Activation, \\\n",
        "Add, MaxPool2D, GlobalAveragePooling2D, Dense\n",
        "from tensorflow.keras import Model\n",
        "from tensorflow.keras.losses import SparseCategoricalCrossentropy"
      ],
      "metadata": {
        "id": "94940_044wSP"
      },
      "execution_count": 16,
      "outputs": []
    },
    {
      "cell_type": "markdown",
      "source": [
        "## First implement Identity Block\n",
        "[Identity block image](https://www.notion.so/Week-4-3871c770f34e4f8ea38461fbbe046bbb#bce1979eb20f4556823653d3a8315990)"
      ],
      "metadata": {
        "id": "EfC5ksb252Dn"
      }
    },
    {
      "cell_type": "code",
      "source": [
        "class IdentityBlock(Model):\n",
        "  def __init__(self, n_filters, kernel_size):\n",
        "    super(IdentityBlock, self).__init__(name='')\n",
        "\n",
        "    self.conv1 = Conv2D(n_filters, kernel_size, padding='same')\n",
        "    self.bn1 = BatchNormalization()\n",
        "\t\t\n",
        "    self.conv2 = Conv2D(n_filters, kernel_size, padding='same')\n",
        "    self.bn2 = BatchNormalization()\n",
        "\n",
        "    self.act = Activation('relu')\n",
        "    self.add = Add()\n",
        "\n",
        "\t\n",
        "  def call(self, input_tensor):\n",
        "    x = self.conv1(input_tensor)\n",
        "    x = self.bn1(x)\n",
        "    x = self.act(x)\n",
        "\t\t\n",
        "    x = self.conv2(x)\n",
        "    x = self.bn2(x)\n",
        "\n",
        "    x = self.add([x, input_tensor])\n",
        "    x = self.act(x)\n",
        "\n",
        "    return x"
      ],
      "metadata": {
        "id": "SAg6OuS27SKp"
      },
      "execution_count": 7,
      "outputs": []
    },
    {
      "cell_type": "markdown",
      "source": [
        "## Then the whole Mini ResNet model"
      ],
      "metadata": {
        "id": "2gMQdtOq77P7"
      }
    },
    {
      "cell_type": "code",
      "source": [
        "class ResNet(Model):\n",
        "  def __init__(self, n_classes, from_logits=False):\n",
        "   super(ResNet, self).__init__()\n",
        "   self.conv = Conv2D(64, 7, padding='same')\n",
        "   self.bn = BatchNormalization()\n",
        "   self.act = Activation('relu')\n",
        "   \n",
        "   self.max_pool = MaxPool2D((3,3))\n",
        "   self.id1a = IdentityBlock(64, 3)\n",
        "   self.id1b = IdentityBlock(64, 3)\n",
        "   \n",
        "   self.global_pool = GlobalAveragePooling2D()\n",
        "   \n",
        "   if from_logits:\n",
        "     self.classifier = Dense(n_classes)\n",
        "   else:\n",
        "     self.classifier = Dense(n_classes, activation='softmax')\n",
        "     \n",
        "  def call(self, inputs):\n",
        "    x = self.conv(inputs)\n",
        "    x = self.bn(x)\n",
        "    x = self.act(x)\n",
        "    x = self.max_pool(x)\n",
        "    \n",
        "    x = self.id1a(x)\n",
        "    x = self.id1b(x)\n",
        "    \n",
        "    x = self.global_pool(x)\n",
        "    output = self.classifier(x)\n",
        "    return output"
      ],
      "metadata": {
        "id": "9pUCaAy18CAu"
      },
      "execution_count": 23,
      "outputs": []
    },
    {
      "cell_type": "markdown",
      "source": [
        "## Train the model on MNIST"
      ],
      "metadata": {
        "id": "E4woNG0b8OYR"
      }
    },
    {
      "cell_type": "code",
      "source": [
        "def preprocess(features):\n",
        "  return tf.cast(features['image'], tf.float32) / 255., features['label']\n",
        "\n",
        "resnet = ResNet(10)\n",
        "resnet.compile(optimizer='adam',\n",
        "               loss=SparseCategoricalCrossentropy(),\n",
        "               metrics=['accuracy'])\n",
        "\n",
        "dataset = tfds.load('mnist', split=tfds.Split.TRAIN, data_dir='./data')\n",
        "dataset = dataset.map(preprocess).batch(32)\n",
        "\n",
        "val_dataset = tfds.load('mnist', split=tfds.Split.TEST, data_dir='./data')\n",
        "val_dataset = val_dataset.map(preprocess).batch(32)\n",
        "\n",
        "resnet.fit(dataset, \n",
        "           validation_data=val_dataset, \n",
        "           epochs=1)"
      ],
      "metadata": {
        "colab": {
          "base_uri": "https://localhost:8080/"
        },
        "id": "sYNhdTu98dET",
        "outputId": "720e6442-6b51-4a11-c569-22ba9cd82c1d"
      },
      "execution_count": 24,
      "outputs": [
        {
          "output_type": "stream",
          "name": "stdout",
          "text": [
            "1875/1875 [==============================] - 289s 154ms/step - loss: 0.1277 - accuracy: 0.9655 - val_loss: 0.1779 - val_accuracy: 0.9457\n"
          ]
        },
        {
          "output_type": "execute_result",
          "data": {
            "text/plain": [
              "<keras.callbacks.History at 0x7f324bd8c370>"
            ]
          },
          "metadata": {},
          "execution_count": 24
        }
      ]
    },
    {
      "cell_type": "code",
      "source": [
        "resnet = ResNet(10, from_logits=True)\n",
        "resnet.compile(optimizer='adam',\n",
        "               loss=SparseCategoricalCrossentropy(from_logits=True),\n",
        "               metrics=['accuracy'])\n",
        "\n",
        "dataset = tfds.load('mnist', split=tfds.Split.TRAIN, data_dir='./data')\n",
        "dataset = dataset.map(preprocess).batch(32)\n",
        "\n",
        "val_dataset = tfds.load('mnist', split=tfds.Split.TEST, data_dir='./data')\n",
        "val_dataset = val_dataset.map(preprocess).batch(32)\n",
        "\n",
        "resnet.fit(dataset, \n",
        "           validation_data=val_dataset, \n",
        "           epochs=1)"
      ],
      "metadata": {
        "colab": {
          "base_uri": "https://localhost:8080/"
        },
        "id": "ucfpqiB9_jY3",
        "outputId": "2f2fc238-731f-44c8-b099-3f5e3fc5fef0"
      },
      "execution_count": 25,
      "outputs": [
        {
          "output_type": "stream",
          "name": "stdout",
          "text": [
            "1875/1875 [==============================] - 296s 157ms/step - loss: 0.1277 - accuracy: 0.9647 - val_loss: 0.8594 - val_accuracy: 0.7597\n"
          ]
        },
        {
          "output_type": "execute_result",
          "data": {
            "text/plain": [
              "<keras.callbacks.History at 0x7f324bb62310>"
            ]
          },
          "metadata": {},
          "execution_count": 25
        }
      ]
    },
    {
      "cell_type": "code",
      "source": [],
      "metadata": {
        "id": "cfI2-X0sBfg3"
      },
      "execution_count": null,
      "outputs": []
    }
  ]
}