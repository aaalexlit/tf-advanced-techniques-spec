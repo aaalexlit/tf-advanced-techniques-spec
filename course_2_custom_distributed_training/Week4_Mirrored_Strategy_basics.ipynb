{
  "nbformat": 4,
  "nbformat_minor": 0,
  "metadata": {
    "colab": {
      "provenance": [],
      "authorship_tag": "ABX9TyMm5xW6JCeCv2bN4PDa3VYD",
      "include_colab_link": true
    },
    "kernelspec": {
      "name": "python3",
      "display_name": "Python 3"
    },
    "language_info": {
      "name": "python"
    },
    "accelerator": "GPU",
    "gpuClass": "standard"
  },
  "cells": [
    {
      "cell_type": "markdown",
      "metadata": {
        "id": "view-in-github",
        "colab_type": "text"
      },
      "source": [
        "<a href=\"https://colab.research.google.com/github/aaalexlit/tf-advanced-techniques-spec/blob/main/course_2_custom_distributed_training/Week4_Mirrored_Strategy_basics.ipynb\" target=\"_parent\"><img src=\"https://colab.research.google.com/assets/colab-badge.svg\" alt=\"Open In Colab\"/></a>"
      ]
    },
    {
      "cell_type": "markdown",
      "source": [
        "## Imports"
      ],
      "metadata": {
        "id": "bksMr4OCYZPF"
      }
    },
    {
      "cell_type": "code",
      "execution_count": 12,
      "metadata": {
        "id": "VV3CNt6yihZ5"
      },
      "outputs": [],
      "source": [
        "import tensorflow_datasets as tfds\n",
        "import tensorflow as tf\n",
        "tfds.disable_progress_bar()"
      ]
    },
    {
      "cell_type": "markdown",
      "source": [
        "## Load mnist"
      ],
      "metadata": {
        "id": "KZSFA5RlYbW8"
      }
    },
    {
      "cell_type": "code",
      "source": [
        "datasets, info = tfds.load(name='mnist', with_info=True, as_supervised=True)\n",
        "\n",
        "mnist_train, mnist_test = datasets['train'], datasets['test']"
      ],
      "metadata": {
        "id": "-RXmA9P8YI-9"
      },
      "execution_count": 13,
      "outputs": []
    },
    {
      "cell_type": "markdown",
      "source": [
        "## Define the strategy"
      ],
      "metadata": {
        "id": "t7__D0IuYcAA"
      }
    },
    {
      "cell_type": "code",
      "source": [
        "strategy = tf.distribute.MirroredStrategy()\n",
        "print(f'Number of devices: {strategy.num_replicas_in_sync}')"
      ],
      "metadata": {
        "colab": {
          "base_uri": "https://localhost:8080/"
        },
        "id": "DVSPf-vnYtTI",
        "outputId": "bda015bd-2635-4718-9e18-3d14066b1f86"
      },
      "execution_count": 14,
      "outputs": [
        {
          "output_type": "stream",
          "name": "stdout",
          "text": [
            "Number of devices: 1\n"
          ]
        }
      ]
    },
    {
      "cell_type": "markdown",
      "source": [
        "## Define Batch Size"
      ],
      "metadata": {
        "id": "e5Qk1O_WY4mX"
      }
    },
    {
      "cell_type": "code",
      "source": [
        "BUFFER_SIZE = 10000\n",
        "\n",
        "BATCH_SIZE_PER_REPLICA = 64\n",
        "# Use for Mirrored Strategy\n",
        "BATCH_SIZE = BATCH_SIZE_PER_REPLICA * strategy.num_replicas_in_sync"
      ],
      "metadata": {
        "id": "WmKmyD56ZM3R"
      },
      "execution_count": 15,
      "outputs": []
    },
    {
      "cell_type": "markdown",
      "source": [
        "## Prepare training and validation set"
      ],
      "metadata": {
        "id": "fAuHIw-JZQNH"
      }
    },
    {
      "cell_type": "code",
      "source": [
        "# Function for normalizing the image\n",
        "def scale(image, label):\n",
        "    image = tf.cast(image, tf.float32)\n",
        "    image /= 255\n",
        "\n",
        "    return image, label"
      ],
      "metadata": {
        "id": "skLj6pw4ZNU3"
      },
      "execution_count": 16,
      "outputs": []
    },
    {
      "cell_type": "code",
      "source": [
        "train_dataset = mnist_train.map(scale).cache().shuffle(BUFFER_SIZE).batch(BATCH_SIZE)\n",
        "eval_dataset = mnist_test.map(scale).batch(BATCH_SIZE)"
      ],
      "metadata": {
        "id": "eM_u1WXyZYCP"
      },
      "execution_count": 17,
      "outputs": []
    },
    {
      "cell_type": "markdown",
      "source": [
        "## Use the strategy"
      ],
      "metadata": {
        "id": "6xIc5KrHZaxR"
      }
    },
    {
      "cell_type": "code",
      "source": [
        "with strategy.scope():\n",
        "    model = tf.keras.Sequential([\n",
        "      tf.keras.layers.Conv2D(32, 3, activation='relu', input_shape=(28, 28, 1)),\n",
        "      tf.keras.layers.MaxPooling2D(),\n",
        "      tf.keras.layers.Flatten(),\n",
        "      tf.keras.layers.Dense(64, activation='relu'),\n",
        "      tf.keras.layers.Dense(10)\n",
        "    ])"
      ],
      "metadata": {
        "id": "jfKZo7kHZgBd"
      },
      "execution_count": 18,
      "outputs": []
    },
    {
      "cell_type": "code",
      "source": [
        "model.compile(loss=tf.keras.losses.SparseCategoricalCrossentropy(from_logits=True),\n",
        "                optimizer=tf.keras.optimizers.Adam(),\n",
        "                metrics=['accuracy'])\n",
        "model.fit(train_dataset, epochs=12)"
      ],
      "metadata": {
        "colab": {
          "base_uri": "https://localhost:8080/"
        },
        "id": "9Dp3fL0HZhkv",
        "outputId": "3acc8676-ae50-4f16-88eb-2daf894f94c6"
      },
      "execution_count": 19,
      "outputs": [
        {
          "output_type": "stream",
          "name": "stdout",
          "text": [
            "Epoch 1/12\n",
            "938/938 [==============================] - 11s 9ms/step - loss: 0.1925 - accuracy: 0.9443\n",
            "Epoch 2/12\n",
            "938/938 [==============================] - 4s 4ms/step - loss: 0.0625 - accuracy: 0.9816\n",
            "Epoch 3/12\n",
            "938/938 [==============================] - 4s 5ms/step - loss: 0.0441 - accuracy: 0.9866\n",
            "Epoch 4/12\n",
            "938/938 [==============================] - 4s 4ms/step - loss: 0.0327 - accuracy: 0.9899\n",
            "Epoch 5/12\n",
            "938/938 [==============================] - 4s 4ms/step - loss: 0.0252 - accuracy: 0.9919\n",
            "Epoch 6/12\n",
            "938/938 [==============================] - 5s 5ms/step - loss: 0.0195 - accuracy: 0.9941\n",
            "Epoch 7/12\n",
            "938/938 [==============================] - 4s 4ms/step - loss: 0.0147 - accuracy: 0.9954\n",
            "Epoch 8/12\n",
            "938/938 [==============================] - 4s 4ms/step - loss: 0.0113 - accuracy: 0.9967\n",
            "Epoch 9/12\n",
            "938/938 [==============================] - 5s 5ms/step - loss: 0.0094 - accuracy: 0.9970\n",
            "Epoch 10/12\n",
            "938/938 [==============================] - 4s 4ms/step - loss: 0.0074 - accuracy: 0.9977\n",
            "Epoch 11/12\n",
            "938/938 [==============================] - 4s 4ms/step - loss: 0.0062 - accuracy: 0.9980\n",
            "Epoch 12/12\n",
            "938/938 [==============================] - 5s 5ms/step - loss: 0.0054 - accuracy: 0.9983\n"
          ]
        },
        {
          "output_type": "execute_result",
          "data": {
            "text/plain": [
              "<keras.callbacks.History at 0x7f9088c3e8e0>"
            ]
          },
          "metadata": {},
          "execution_count": 19
        }
      ]
    },
    {
      "cell_type": "code",
      "source": [],
      "metadata": {
        "id": "xKnIOfviZnfG"
      },
      "execution_count": 19,
      "outputs": []
    }
  ]
}