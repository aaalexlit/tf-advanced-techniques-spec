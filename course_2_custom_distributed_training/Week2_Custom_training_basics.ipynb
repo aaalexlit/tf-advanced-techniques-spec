{
  "nbformat": 4,
  "nbformat_minor": 0,
  "metadata": {
    "colab": {
      "provenance": [],
      "authorship_tag": "ABX9TyM+Qais/yemiAR7YF+HVr/6",
      "include_colab_link": true
    },
    "kernelspec": {
      "name": "python3",
      "display_name": "Python 3"
    },
    "language_info": {
      "name": "python"
    }
  },
  "cells": [
    {
      "cell_type": "markdown",
      "metadata": {
        "id": "view-in-github",
        "colab_type": "text"
      },
      "source": [
        "<a href=\"https://colab.research.google.com/github/aaalexlit/tf-advanced-techniques-spec/blob/main/course_2_custom_distributed_training/Week2_Custom_training_basics.ipynb\" target=\"_parent\"><img src=\"https://colab.research.google.com/assets/colab-badge.svg\" alt=\"Open In Colab\"/></a>"
      ]
    },
    {
      "cell_type": "markdown",
      "source": [
        "### Implement basic linear regression from scratch using gradient tape"
      ],
      "metadata": {
        "id": "EU5WIE7FSVBy"
      }
    },
    {
      "cell_type": "code",
      "source": [
        "import tensorflow as tf\n",
        "import numpy as np\n",
        "import matplotlib.pyplot as plt"
      ],
      "metadata": {
        "id": "YCs0Iot9Sxdl"
      },
      "execution_count": 3,
      "outputs": []
    },
    {
      "cell_type": "markdown",
      "source": [
        "# Define the model"
      ],
      "metadata": {
        "id": "iN5DRztwS73B"
      }
    },
    {
      "cell_type": "code",
      "source": [
        "class Model():\n",
        "  def __init__(self):\n",
        "    self.w = tf.Variable(2.0)\n",
        "    self.b = tf.Variable(1.0)\n",
        "\n",
        "  \n",
        "  def __call__(self, x):\n",
        "    return self.w * x + self.b\n",
        "\n",
        "model = Model()"
      ],
      "metadata": {
        "id": "IdiPUcX6TCGc"
      },
      "execution_count": 4,
      "outputs": []
    },
    {
      "cell_type": "markdown",
      "source": [
        "## Quadratic loss"
      ],
      "metadata": {
        "id": "ggq2VPoPT1Bb"
      }
    },
    {
      "cell_type": "code",
      "source": [
        "def loss(y_true, y_pred):\n",
        "  return tf.reduce_mean(tf.square(y_pred - y_true))"
      ],
      "metadata": {
        "id": "aua9tDJp7EVt"
      },
      "execution_count": 5,
      "outputs": []
    },
    {
      "cell_type": "markdown",
      "source": [
        "## Training data"
      ],
      "metadata": {
        "id": "xV5vKoY57Vks"
      }
    },
    {
      "cell_type": "code",
      "source": [
        "TRUE_w = 3.0\n",
        "TRUE_b = 2.0\n",
        "NUM_EXAMPLES = 1000\n",
        "\n",
        "xs  = tf.random.normal(shape=[NUM_EXAMPLES])\n",
        "\n",
        "ys = (TRUE_w * xs) + TRUE_b"
      ],
      "metadata": {
        "id": "pkpCtqBI7XxR"
      },
      "execution_count": 6,
      "outputs": []
    },
    {
      "cell_type": "code",
      "source": [
        "def plot_data(inputs, outputs, predicted_outputs):\n",
        "  real = plt.scatter(inputs, outputs, c='b', marker='.')\n",
        "  predicted = plt.scatter(inputs, predicted_outputs, c='r', marker='+')\n",
        "  plt.legend((real, predicted), ('Real Data', 'Predicted Data'))\n",
        "  plt.show()"
      ],
      "metadata": {
        "id": "pjxTt3wU7aBc"
      },
      "execution_count": 9,
      "outputs": []
    },
    {
      "cell_type": "code",
      "source": [
        "plot_data(xs, ys, model(xs))\n",
        "print(f'Current loss: {loss(model(xs), ys).numpy():1.6f}')"
      ],
      "metadata": {
        "colab": {
          "base_uri": "https://localhost:8080/",
          "height": 283
        },
        "id": "H52Kcp-bjwzf",
        "outputId": "069e5463-7b01-49b2-cb72-929a862df16b"
      },
      "execution_count": 10,
      "outputs": [
        {
          "output_type": "display_data",
          "data": {
            "text/plain": [
              "<Figure size 432x288 with 1 Axes>"
            ],
            "image/png": "[encoded data removed]"
          },
          "metadata": {
            "needs_background": "light"
          }
        },
        {
          "output_type": "stream",
          "name": "stdout",
          "text": [
            "Current loss: 2.015457\n"
          ]
        }
      ]
    },
    {
      "cell_type": "markdown",
      "source": [
        "## Define a training loop manually"
      ],
      "metadata": {
        "id": "59VpEDcNkELs"
      }
    },
    {
      "cell_type": "code",
      "source": [
        "def train(model, inputs, outputs, learning_rate):\n",
        "  with tf.GradientTape() as t:\n",
        "    current_loss = loss(model(inputs), outputs)\n",
        "  dw, db = t.gradient(current_loss, [model.w, model.b])\n",
        "  model.w.assign_sub(learning_rate * dw)\n",
        "  model.b.assign_sub(learning_rate * db)\n",
        "  return current_loss"
      ],
      "metadata": {
        "id": "C7ZE6ayHkXtR"
      },
      "execution_count": 12,
      "outputs": []
    },
    {
      "cell_type": "markdown",
      "source": [
        "## Perform the training"
      ],
      "metadata": {
        "id": "H40JiREslRYF"
      }
    },
    {
      "cell_type": "code",
      "source": [
        "model = Model()\n",
        "\n",
        "# Collect the history of W-values and b-values to plot later\n",
        "list_w, list_b = [], []\n",
        "epochs = range(15)\n",
        "losses = []\n",
        "for epoch in epochs:\n",
        "  list_w.append(model.w.numpy())\n",
        "  list_b.append(model.b.numpy())\n",
        "  current_loss = train(model, xs, ys, 0.1)\n",
        "  losses.append(current_loss)\n",
        "  print(f'Epoch {epoch}2d: w={list_w[-1]:1.2f} b={list_b[-1]:1.2f}, loss={current_loss:2.5f}')"
      ],
      "metadata": {
        "colab": {
          "base_uri": "https://localhost:8080/"
        },
        "id": "Tf3gl8PUlY6A",
        "outputId": "13ea1aa1-7c01-4381-bcbe-e4e36845725b"
      },
      "execution_count": 13,
      "outputs": [
        {
          "output_type": "stream",
          "name": "stdout",
          "text": [
            "Epoch 02d: w=2.00 b=1.00, loss=2.01546\n",
            "Epoch 12d: w=2.21 b=1.20, loss=1.28467\n",
            "Epoch 22d: w=2.37 b=1.36, loss=0.81895\n",
            "Epoch 32d: w=2.50 b=1.48, loss=0.52212\n",
            "Epoch 42d: w=2.60 b=1.59, loss=0.33292\n",
            "Epoch 52d: w=2.68 b=1.67, loss=0.21230\n",
            "Epoch 62d: w=2.75 b=1.73, loss=0.13539\n",
            "Epoch 72d: w=2.80 b=1.79, loss=0.08636\n",
            "Epoch 82d: w=2.84 b=1.83, loss=0.05508\n",
            "Epoch 92d: w=2.87 b=1.86, loss=0.03514\n",
            "Epoch 102d: w=2.90 b=1.89, loss=0.02242\n",
            "Epoch 112d: w=2.92 b=1.91, loss=0.01431\n",
            "Epoch 122d: w=2.94 b=1.93, loss=0.00913\n",
            "Epoch 132d: w=2.95 b=1.94, loss=0.00583\n",
            "Epoch 142d: w=2.96 b=1.95, loss=0.00372\n"
          ]
        }
      ]
    },
    {
      "cell_type": "markdown",
      "source": [
        "## Plot w and b changes over time\n"
      ],
      "metadata": {
        "id": "TFB2wA_dm8ro"
      }
    },
    {
      "cell_type": "code",
      "source": [
        "plt.plot(epochs, list_w, 'r',\n",
        "       epochs, list_b, 'b')\n",
        "plt.plot([TRUE_w] * len(epochs), 'r--',\n",
        "      [TRUE_b] * len(epochs), 'b--')\n",
        "plt.legend(['w', 'b', 'True w', 'True b'])\n",
        "plt.show()"
      ],
      "metadata": {
        "colab": {
          "base_uri": "https://localhost:8080/",
          "height": 265
        },
        "id": "6dnPFZMunJeA",
        "outputId": "795244cd-c916-4a22-dbbb-aeb527cf96be"
      },
      "execution_count": 14,
      "outputs": [
        {
          "output_type": "display_data",
          "data": {
            "text/plain": [
              "<Figure size 432x288 with 1 Axes>"
            ],
            "image/png": "[encoded data removed]"
          },
          "metadata": {
            "needs_background": "light"
          }
        }
      ]
    },
    {
      "cell_type": "markdown",
      "source": [
        "## Evaluate the model"
      ],
      "metadata": {
        "id": "NL3IlMZAnQ-C"
      }
    },
    {
      "cell_type": "code",
      "source": [
        "test_inputs = tf.random.normal(shape=[NUM_EXAMPLES])\n",
        "test_outputs = test_inputs * TRUE_w + TRUE_b\n",
        "pred_test_outputs = model(test_inputs)\n",
        "plot_data(test_inputs, test_outputs, pred_test_outputs)"
      ],
      "metadata": {
        "colab": {
          "base_uri": "https://localhost:8080/",
          "height": 269
        },
        "id": "mhdyYjeTnqKd",
        "outputId": "7b8be8e4-cb21-4983-c670-ccb4798c8538"
      },
      "execution_count": 15,
      "outputs": [
        {
          "output_type": "display_data",
          "data": {
            "text/plain": [
              "<Figure size 432x288 with 1 Axes>"
            ],
            "image/png": "[encoded data removed]"
          },
          "metadata": {
            "needs_background": "light"
          }
        }
      ]
    },
    {
      "cell_type": "markdown",
      "source": [
        "Visualize the cost function against the values of each of the trainable weights the model approximated to over time."
      ],
      "metadata": {
        "id": "6uxXi110oLOn"
      }
    },
    {
      "cell_type": "code",
      "source": [
        "def plot_loss_for_weights(weights_dict, losses):\n",
        "  for idx, weights in enumerate(weights_dict):\n",
        "    plt.subplot(120 + idx + 1)\n",
        "    plt.plot(weights['values'], losses, 'r')\n",
        "    plt.plot(weights['values'], losses, 'bo')\n",
        "    plt.xlabel(weights['name'])\n",
        "    plt.ylabel('Loss')\n",
        "\n",
        "weights_dict = [{ 'name' : \"w\",\n",
        "                  'values' : list_w\n",
        "                },\n",
        "                {\n",
        "                  'name' : \"b\",\n",
        "                  'values' : list_b\n",
        "                }]\n",
        "plot_loss_for_weights(weights_dict, losses);"
      ],
      "metadata": {
        "colab": {
          "base_uri": "https://localhost:8080/",
          "height": 279
        },
        "id": "d4nWZIaToOZc",
        "outputId": "f0a601e3-9864-4a91-db62-06dd0c18152d"
      },
      "execution_count": 18,
      "outputs": [
        {
          "output_type": "display_data",
          "data": {
            "text/plain": [
              "<Figure size 432x288 with 2 Axes>"
            ],
            "image/png": "[encoded data removed]"
          },
          "metadata": {
            "needs_background": "light"
          }
        }
      ]
    },
    {
      "cell_type": "code",
      "source": [],
      "metadata": {
        "id": "r6NM7FGupT_Y"
      },
      "execution_count": null,
      "outputs": []
    }
  ]
}